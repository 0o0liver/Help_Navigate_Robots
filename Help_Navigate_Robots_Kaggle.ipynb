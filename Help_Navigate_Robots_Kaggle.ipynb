{
  "nbformat": 4,
  "nbformat_minor": 0,
  "metadata": {
    "kernelspec": {
      "display_name": "Python 3",
      "language": "python",
      "name": "python3"
    },
    "language_info": {
      "codemirror_mode": {
        "name": "ipython",
        "version": 3
      },
      "file_extension": ".py",
      "mimetype": "text/x-python",
      "name": "python",
      "nbconvert_exporter": "python",
      "pygments_lexer": "ipython3",
      "version": "3.6.6"
    },
    "colab": {
      "name": "Help_Navigate_Robots_Kaggle.ipynb",
      "provenance": []
    }
  },
  "cells": [
    {
      "cell_type": "markdown",
      "metadata": {
        "id": "qka-t-UfcBp-",
        "colab_type": "text"
      },
      "source": [
        "# Introduction\n",
        "We are given IMU data that is collected by a robot while \"walking\" on different types of floor surface. In this notebook, we are going to train our machine learing model on the data and, hopefully, be able to correctly predict the type of floor surface when given a brand new set of IMU data.\n",
        "\n",
        "To complete such task, I will be doing Feature Engineering, using several machine learning models to train the data and test the model using cross validation to see which model has the most accurate predicting power for our data. Specific detail, implementation and references will be displayed in later sections"
      ]
    },
    {
      "cell_type": "markdown",
      "metadata": {
        "id": "-bPv-eaAcBqA",
        "colab_type": "text"
      },
      "source": [
        "# Data\n",
        "In this section, we will take a look into the data that is provided to us, find out what type of machine learning problem this task it and make sense of what each attribut means"
      ]
    },
    {
      "cell_type": "markdown",
      "metadata": {
        "id": "ZinrNr60cBqA",
        "colab_type": "text"
      },
      "source": [
        "### 1. Loading libaries"
      ]
    },
    {
      "cell_type": "code",
      "metadata": {
        "_cell_guid": "b1076dfc-b9ad-4769-8c92-a6c4dae69d19",
        "_uuid": "8f2839f25d086af736a60e9eeb907d3b93b6e0e5",
        "id": "CsD6ggEgcBqB",
        "colab_type": "code",
        "colab": {},
        "outputId": "c857f0d0-6f2a-4af0-dded-261459b763b5"
      },
      "source": [
        "# This Python 3 environment comes with many helpful analytics libraries installed\n",
        "# It is defined by the kaggle/python docker image: https://github.com/kaggle/docker-python\n",
        "# For example, here's several helpful packages to load in \n",
        "\n",
        "import numpy as np # linear algebra\n",
        "import pandas as pd # data processing, CSV file I/O (e.g. pd.read_csv)\n",
        "import matplotlib.pyplot as plt\n",
        "%matplotlib inline\n",
        "import math\n",
        "from sklearn.model_selection import train_test_split\n",
        "from sklearn.ensemble import RandomForestClassifier\n",
        "from sklearn.tree import DecisionTreeClassifier\n",
        "from sklearn.neighbors import KNeighborsClassifier\n",
        "from sklearn.svm import SVC \n",
        "from sklearn import metrics\n",
        "\n",
        "# Input data files are available in the \"../input/\" directory.\n",
        "# For example, running this (by clicking run or pressing Shift+Enter) will list all files under the input directory\n",
        "\n",
        "#import os\n",
        "#print(os.listdir(\"../input/career-con-2019\"))\n",
        "\n",
        "# Any results you write to the current directory are saved as output.\n",
        "\n",
        "print(\"Libaries loaded.\")"
      ],
      "execution_count": 0,
      "outputs": [
        {
          "output_type": "stream",
          "text": [
            "Libaries loaded.\n"
          ],
          "name": "stdout"
        }
      ]
    },
    {
      "cell_type": "markdown",
      "metadata": {
        "id": "23V25F1rcBqF",
        "colab_type": "text"
      },
      "source": [
        "### 2. Loading data"
      ]
    },
    {
      "cell_type": "code",
      "metadata": {
        "id": "2eVbwkxXcBqG",
        "colab_type": "code",
        "colab": {},
        "outputId": "5b5cef25-d13e-4902-80a6-2ce45bcb544c"
      },
      "source": [
        "X_train = pd.read_csv(\"../input/career-con-2019/X_train.csv\")\n",
        "Y_train = pd.read_csv(\"../input/career-con-2019/y_train.csv\")\n",
        "\n",
        "print(\"Data loaded.\")"
      ],
      "execution_count": 0,
      "outputs": [
        {
          "output_type": "stream",
          "text": [
            "Data loaded.\n"
          ],
          "name": "stdout"
        }
      ]
    },
    {
      "cell_type": "markdown",
      "metadata": {
        "id": "qwi8x9KRcBqJ",
        "colab_type": "text"
      },
      "source": [
        "### 3. Exploring data"
      ]
    },
    {
      "cell_type": "code",
      "metadata": {
        "id": "v0xkg_eNcBqK",
        "colab_type": "code",
        "colab": {},
        "outputId": "27dac8d4-0f07-46e5-e36b-bc11ab16f436"
      },
      "source": [
        "X_train"
      ],
      "execution_count": 0,
      "outputs": [
        {
          "output_type": "execute_result",
          "data": {
            "text/html": [
              "<div>\n",
              "<style scoped>\n",
              "    .dataframe tbody tr th:only-of-type {\n",
              "        vertical-align: middle;\n",
              "    }\n",
              "\n",
              "    .dataframe tbody tr th {\n",
              "        vertical-align: top;\n",
              "    }\n",
              "\n",
              "    .dataframe thead th {\n",
              "        text-align: right;\n",
              "    }\n",
              "</style>\n",
              "<table border=\"1\" class=\"dataframe\">\n",
              "  <thead>\n",
              "    <tr style=\"text-align: right;\">\n",
              "      <th></th>\n",
              "      <th>row_id</th>\n",
              "      <th>series_id</th>\n",
              "      <th>measurement_number</th>\n",
              "      <th>orientation_X</th>\n",
              "      <th>orientation_Y</th>\n",
              "      <th>orientation_Z</th>\n",
              "      <th>orientation_W</th>\n",
              "      <th>angular_velocity_X</th>\n",
              "      <th>angular_velocity_Y</th>\n",
              "      <th>angular_velocity_Z</th>\n",
              "      <th>linear_acceleration_X</th>\n",
              "      <th>linear_acceleration_Y</th>\n",
              "      <th>linear_acceleration_Z</th>\n",
              "    </tr>\n",
              "  </thead>\n",
              "  <tbody>\n",
              "    <tr>\n",
              "      <th>0</th>\n",
              "      <td>0_0</td>\n",
              "      <td>0</td>\n",
              "      <td>0</td>\n",
              "      <td>-0.75853</td>\n",
              "      <td>-0.63435</td>\n",
              "      <td>-0.104880</td>\n",
              "      <td>-0.105970</td>\n",
              "      <td>0.107650</td>\n",
              "      <td>0.017561</td>\n",
              "      <td>0.000767</td>\n",
              "      <td>-0.74857</td>\n",
              "      <td>2.1030</td>\n",
              "      <td>-9.7532</td>\n",
              "    </tr>\n",
              "    <tr>\n",
              "      <th>1</th>\n",
              "      <td>0_1</td>\n",
              "      <td>0</td>\n",
              "      <td>1</td>\n",
              "      <td>-0.75853</td>\n",
              "      <td>-0.63434</td>\n",
              "      <td>-0.104900</td>\n",
              "      <td>-0.106000</td>\n",
              "      <td>0.067851</td>\n",
              "      <td>0.029939</td>\n",
              "      <td>0.003385</td>\n",
              "      <td>0.33995</td>\n",
              "      <td>1.5064</td>\n",
              "      <td>-9.4128</td>\n",
              "    </tr>\n",
              "    <tr>\n",
              "      <th>2</th>\n",
              "      <td>0_2</td>\n",
              "      <td>0</td>\n",
              "      <td>2</td>\n",
              "      <td>-0.75853</td>\n",
              "      <td>-0.63435</td>\n",
              "      <td>-0.104920</td>\n",
              "      <td>-0.105970</td>\n",
              "      <td>0.007275</td>\n",
              "      <td>0.028934</td>\n",
              "      <td>-0.005978</td>\n",
              "      <td>-0.26429</td>\n",
              "      <td>1.5922</td>\n",
              "      <td>-8.7267</td>\n",
              "    </tr>\n",
              "    <tr>\n",
              "      <th>3</th>\n",
              "      <td>0_3</td>\n",
              "      <td>0</td>\n",
              "      <td>3</td>\n",
              "      <td>-0.75852</td>\n",
              "      <td>-0.63436</td>\n",
              "      <td>-0.104950</td>\n",
              "      <td>-0.105970</td>\n",
              "      <td>-0.013053</td>\n",
              "      <td>0.019448</td>\n",
              "      <td>-0.008974</td>\n",
              "      <td>0.42684</td>\n",
              "      <td>1.0993</td>\n",
              "      <td>-10.0960</td>\n",
              "    </tr>\n",
              "    <tr>\n",
              "      <th>4</th>\n",
              "      <td>0_4</td>\n",
              "      <td>0</td>\n",
              "      <td>4</td>\n",
              "      <td>-0.75852</td>\n",
              "      <td>-0.63435</td>\n",
              "      <td>-0.104950</td>\n",
              "      <td>-0.105960</td>\n",
              "      <td>0.005135</td>\n",
              "      <td>0.007652</td>\n",
              "      <td>0.005245</td>\n",
              "      <td>-0.50969</td>\n",
              "      <td>1.4689</td>\n",
              "      <td>-10.4410</td>\n",
              "    </tr>\n",
              "    <tr>\n",
              "      <th>...</th>\n",
              "      <td>...</td>\n",
              "      <td>...</td>\n",
              "      <td>...</td>\n",
              "      <td>...</td>\n",
              "      <td>...</td>\n",
              "      <td>...</td>\n",
              "      <td>...</td>\n",
              "      <td>...</td>\n",
              "      <td>...</td>\n",
              "      <td>...</td>\n",
              "      <td>...</td>\n",
              "      <td>...</td>\n",
              "      <td>...</td>\n",
              "    </tr>\n",
              "    <tr>\n",
              "      <th>487675</th>\n",
              "      <td>3809_123</td>\n",
              "      <td>3809</td>\n",
              "      <td>123</td>\n",
              "      <td>0.62871</td>\n",
              "      <td>-0.76878</td>\n",
              "      <td>-0.084391</td>\n",
              "      <td>0.081093</td>\n",
              "      <td>0.003167</td>\n",
              "      <td>0.093760</td>\n",
              "      <td>-0.142740</td>\n",
              "      <td>3.27180</td>\n",
              "      <td>2.0115</td>\n",
              "      <td>-9.0063</td>\n",
              "    </tr>\n",
              "    <tr>\n",
              "      <th>487676</th>\n",
              "      <td>3809_124</td>\n",
              "      <td>3809</td>\n",
              "      <td>124</td>\n",
              "      <td>0.62884</td>\n",
              "      <td>-0.76868</td>\n",
              "      <td>-0.084365</td>\n",
              "      <td>0.081099</td>\n",
              "      <td>0.014994</td>\n",
              "      <td>0.032637</td>\n",
              "      <td>-0.132380</td>\n",
              "      <td>4.42750</td>\n",
              "      <td>3.0696</td>\n",
              "      <td>-8.1257</td>\n",
              "    </tr>\n",
              "    <tr>\n",
              "      <th>487677</th>\n",
              "      <td>3809_125</td>\n",
              "      <td>3809</td>\n",
              "      <td>125</td>\n",
              "      <td>0.62891</td>\n",
              "      <td>-0.76861</td>\n",
              "      <td>-0.084345</td>\n",
              "      <td>0.081178</td>\n",
              "      <td>-0.031184</td>\n",
              "      <td>-0.003961</td>\n",
              "      <td>-0.138940</td>\n",
              "      <td>2.70480</td>\n",
              "      <td>4.2622</td>\n",
              "      <td>-8.1443</td>\n",
              "    </tr>\n",
              "    <tr>\n",
              "      <th>487678</th>\n",
              "      <td>3809_126</td>\n",
              "      <td>3809</td>\n",
              "      <td>126</td>\n",
              "      <td>0.62903</td>\n",
              "      <td>-0.76850</td>\n",
              "      <td>-0.084414</td>\n",
              "      <td>0.081231</td>\n",
              "      <td>-0.069153</td>\n",
              "      <td>0.013229</td>\n",
              "      <td>-0.130210</td>\n",
              "      <td>2.54100</td>\n",
              "      <td>4.7130</td>\n",
              "      <td>-9.4435</td>\n",
              "    </tr>\n",
              "    <tr>\n",
              "      <th>487679</th>\n",
              "      <td>3809_127</td>\n",
              "      <td>3809</td>\n",
              "      <td>127</td>\n",
              "      <td>0.62915</td>\n",
              "      <td>-0.76839</td>\n",
              "      <td>-0.084441</td>\n",
              "      <td>0.081284</td>\n",
              "      <td>-0.042769</td>\n",
              "      <td>0.034049</td>\n",
              "      <td>-0.125800</td>\n",
              "      <td>0.82391</td>\n",
              "      <td>4.2751</td>\n",
              "      <td>-10.4980</td>\n",
              "    </tr>\n",
              "  </tbody>\n",
              "</table>\n",
              "<p>487680 rows × 13 columns</p>\n",
              "</div>"
            ],
            "text/plain": [
              "          row_id  series_id  measurement_number  orientation_X  orientation_Y  \\\n",
              "0            0_0          0                   0       -0.75853       -0.63435   \n",
              "1            0_1          0                   1       -0.75853       -0.63434   \n",
              "2            0_2          0                   2       -0.75853       -0.63435   \n",
              "3            0_3          0                   3       -0.75852       -0.63436   \n",
              "4            0_4          0                   4       -0.75852       -0.63435   \n",
              "...          ...        ...                 ...            ...            ...   \n",
              "487675  3809_123       3809                 123        0.62871       -0.76878   \n",
              "487676  3809_124       3809                 124        0.62884       -0.76868   \n",
              "487677  3809_125       3809                 125        0.62891       -0.76861   \n",
              "487678  3809_126       3809                 126        0.62903       -0.76850   \n",
              "487679  3809_127       3809                 127        0.62915       -0.76839   \n",
              "\n",
              "        orientation_Z  orientation_W  angular_velocity_X  angular_velocity_Y  \\\n",
              "0           -0.104880      -0.105970            0.107650            0.017561   \n",
              "1           -0.104900      -0.106000            0.067851            0.029939   \n",
              "2           -0.104920      -0.105970            0.007275            0.028934   \n",
              "3           -0.104950      -0.105970           -0.013053            0.019448   \n",
              "4           -0.104950      -0.105960            0.005135            0.007652   \n",
              "...               ...            ...                 ...                 ...   \n",
              "487675      -0.084391       0.081093            0.003167            0.093760   \n",
              "487676      -0.084365       0.081099            0.014994            0.032637   \n",
              "487677      -0.084345       0.081178           -0.031184           -0.003961   \n",
              "487678      -0.084414       0.081231           -0.069153            0.013229   \n",
              "487679      -0.084441       0.081284           -0.042769            0.034049   \n",
              "\n",
              "        angular_velocity_Z  linear_acceleration_X  linear_acceleration_Y  \\\n",
              "0                 0.000767               -0.74857                 2.1030   \n",
              "1                 0.003385                0.33995                 1.5064   \n",
              "2                -0.005978               -0.26429                 1.5922   \n",
              "3                -0.008974                0.42684                 1.0993   \n",
              "4                 0.005245               -0.50969                 1.4689   \n",
              "...                    ...                    ...                    ...   \n",
              "487675           -0.142740                3.27180                 2.0115   \n",
              "487676           -0.132380                4.42750                 3.0696   \n",
              "487677           -0.138940                2.70480                 4.2622   \n",
              "487678           -0.130210                2.54100                 4.7130   \n",
              "487679           -0.125800                0.82391                 4.2751   \n",
              "\n",
              "        linear_acceleration_Z  \n",
              "0                     -9.7532  \n",
              "1                     -9.4128  \n",
              "2                     -8.7267  \n",
              "3                    -10.0960  \n",
              "4                    -10.4410  \n",
              "...                       ...  \n",
              "487675                -9.0063  \n",
              "487676                -8.1257  \n",
              "487677                -8.1443  \n",
              "487678                -9.4435  \n",
              "487679               -10.4980  \n",
              "\n",
              "[487680 rows x 13 columns]"
            ]
          },
          "metadata": {
            "tags": []
          },
          "execution_count": 3
        }
      ]
    },
    {
      "cell_type": "markdown",
      "metadata": {
        "id": "WQjho_1icBqN",
        "colab_type": "text"
      },
      "source": [
        "There are 3810 series of input data, which means that our data provider performed 3810 walks. Each serie contains 128 sets of measurements, which means that measurements were taken 128 times during the course of a walk. These measurements consist of 4 orientation measurement, 3 angular velocity measurement and 3 linear acceleration measurement."
      ]
    },
    {
      "cell_type": "code",
      "metadata": {
        "id": "vqFxp_6dcBqO",
        "colab_type": "code",
        "colab": {},
        "outputId": "3a60024c-f926-4780-d909-6706badba4e1"
      },
      "source": [
        "Y_train"
      ],
      "execution_count": 0,
      "outputs": [
        {
          "output_type": "execute_result",
          "data": {
            "text/html": [
              "<div>\n",
              "<style scoped>\n",
              "    .dataframe tbody tr th:only-of-type {\n",
              "        vertical-align: middle;\n",
              "    }\n",
              "\n",
              "    .dataframe tbody tr th {\n",
              "        vertical-align: top;\n",
              "    }\n",
              "\n",
              "    .dataframe thead th {\n",
              "        text-align: right;\n",
              "    }\n",
              "</style>\n",
              "<table border=\"1\" class=\"dataframe\">\n",
              "  <thead>\n",
              "    <tr style=\"text-align: right;\">\n",
              "      <th></th>\n",
              "      <th>series_id</th>\n",
              "      <th>group_id</th>\n",
              "      <th>surface</th>\n",
              "    </tr>\n",
              "  </thead>\n",
              "  <tbody>\n",
              "    <tr>\n",
              "      <th>0</th>\n",
              "      <td>0</td>\n",
              "      <td>13</td>\n",
              "      <td>fine_concrete</td>\n",
              "    </tr>\n",
              "    <tr>\n",
              "      <th>1</th>\n",
              "      <td>1</td>\n",
              "      <td>31</td>\n",
              "      <td>concrete</td>\n",
              "    </tr>\n",
              "    <tr>\n",
              "      <th>2</th>\n",
              "      <td>2</td>\n",
              "      <td>20</td>\n",
              "      <td>concrete</td>\n",
              "    </tr>\n",
              "    <tr>\n",
              "      <th>3</th>\n",
              "      <td>3</td>\n",
              "      <td>31</td>\n",
              "      <td>concrete</td>\n",
              "    </tr>\n",
              "    <tr>\n",
              "      <th>4</th>\n",
              "      <td>4</td>\n",
              "      <td>22</td>\n",
              "      <td>soft_tiles</td>\n",
              "    </tr>\n",
              "    <tr>\n",
              "      <th>...</th>\n",
              "      <td>...</td>\n",
              "      <td>...</td>\n",
              "      <td>...</td>\n",
              "    </tr>\n",
              "    <tr>\n",
              "      <th>3805</th>\n",
              "      <td>3805</td>\n",
              "      <td>55</td>\n",
              "      <td>tiled</td>\n",
              "    </tr>\n",
              "    <tr>\n",
              "      <th>3806</th>\n",
              "      <td>3806</td>\n",
              "      <td>67</td>\n",
              "      <td>wood</td>\n",
              "    </tr>\n",
              "    <tr>\n",
              "      <th>3807</th>\n",
              "      <td>3807</td>\n",
              "      <td>48</td>\n",
              "      <td>fine_concrete</td>\n",
              "    </tr>\n",
              "    <tr>\n",
              "      <th>3808</th>\n",
              "      <td>3808</td>\n",
              "      <td>54</td>\n",
              "      <td>tiled</td>\n",
              "    </tr>\n",
              "    <tr>\n",
              "      <th>3809</th>\n",
              "      <td>3809</td>\n",
              "      <td>56</td>\n",
              "      <td>soft_pvc</td>\n",
              "    </tr>\n",
              "  </tbody>\n",
              "</table>\n",
              "<p>3810 rows × 3 columns</p>\n",
              "</div>"
            ],
            "text/plain": [
              "      series_id  group_id        surface\n",
              "0             0        13  fine_concrete\n",
              "1             1        31       concrete\n",
              "2             2        20       concrete\n",
              "3             3        31       concrete\n",
              "4             4        22     soft_tiles\n",
              "...         ...       ...            ...\n",
              "3805       3805        55          tiled\n",
              "3806       3806        67           wood\n",
              "3807       3807        48  fine_concrete\n",
              "3808       3808        54          tiled\n",
              "3809       3809        56       soft_pvc\n",
              "\n",
              "[3810 rows x 3 columns]"
            ]
          },
          "metadata": {
            "tags": []
          },
          "execution_count": 4
        }
      ]
    },
    {
      "cell_type": "markdown",
      "metadata": {
        "id": "1g6gD2GPcBqT",
        "colab_type": "text"
      },
      "source": [
        "Same as the input, there are 3810 series output data, each indicates what one of the 9 surfaces each walk was performed on. Group_id indicates which specific surface that walk was performed on. An example could better explain the difference between surface and group_id. Let's take serie 1 and 2 for example, they have the same surface value, which is \"concrete\", but different group_id value, 31 for serie 1 and 20 for serie 2. This means that serie 1 and 2 are performed on two different concrete surface. On the other hand, if two series have the same surface and group_id value, serie 1 and 3 for example, it means that they are both performed on same specific concrete surface. Below is a simple count on the amount of walks that were performed on each surface.\n",
        "\n",
        "Our task is to take new set of input data and predict which 1 of the 9 types of floor that the robot was walking on when the each set of data was collected. From the description above, we can conclude that this task is a multiclass classification problem. "
      ]
    },
    {
      "cell_type": "markdown",
      "metadata": {
        "id": "i9HhVplzcBqT",
        "colab_type": "text"
      },
      "source": [
        "# Data Preprocessing \n",
        "After exploring the data, lots question emerged. It is fairly easier to understand linear acceleration and angular velocity, but what exactly are orientations and why there are 4 of them? Additionally, we can see that input data and output data has different amount of rows, more specifically, a serie has exactly 1 entry in output data but 128 entries in input data. In this section, we will address these two issues one by one and perform preprocessing to prepare our data to a fit our machine learning model."
      ]
    },
    {
      "cell_type": "markdown",
      "metadata": {
        "id": "z7OKnmDLcBqU",
        "colab_type": "text"
      },
      "source": [
        "### 1. Converting orientations\n",
        "\n",
        "After researching (reference 1, 2 and 3), I was able to make sense of what we could do with the orientation values that are provided to us. In a nutshell, we could convert the 4-degree orientation value into 3-degree euler angle value for better understanding. Two functions defined below are doing such job for each entry in input data. They take the 4 orientation values of each row, output 3 new values: roll, pitch and yaw, and add them to corresponding row."
      ]
    },
    {
      "cell_type": "code",
      "metadata": {
        "id": "JKCjNlAjcBqU",
        "colab_type": "code",
        "colab": {}
      },
      "source": [
        "##  This function takes 4 orientation values as input\n",
        "##  and calculates roll, pitch and yaw value \n",
        "def quaternion_to_euler(x, y, z, w):\n",
        "    sinr_cosp = 2.0 * (w * x + y * z)\n",
        "    cosr_cosp = 1.0 - 2.0 * (x * x + y * y)\n",
        "    roll = math.atan2(sinr_cosp, cosr_cosp)\n",
        "    \n",
        "    sinp = 2.0 * (w * y - z * x)\n",
        "    if sinp > 1.0:\n",
        "        sinp = 1.0\n",
        "    if sinp < -1.0:\n",
        "        sinp = -1.0\n",
        "    pitch = math.asin(sinp)\n",
        "    \n",
        "    siny_cosp = 2.0 * (w * z + x * y)\n",
        "    cosy_cosp = 1.0 - 2.0 * (y * y + z * z)\n",
        "    yaw = math.atan2(siny_cosp, cosy_cosp)\n",
        "    \n",
        "    return roll, pitch, yaw"
      ],
      "execution_count": 0,
      "outputs": []
    },
    {
      "cell_type": "code",
      "metadata": {
        "id": "Ins7O6PdcBqY",
        "colab_type": "code",
        "colab": {}
      },
      "source": [
        "##  This function takes pd.dataframe as input, extracts orientation value for each entry,\n",
        "##  calls quaternion_to_euler and add three new attribues to each entry along with \n",
        "##  corresponding values.\n",
        "def add_euler_features(dataframe):\n",
        "    x, y, z, w = dataframe[\"orientation_X\"].tolist(), dataframe[\"orientation_Y\"].tolist(), dataframe[\"orientation_Z\"].tolist(), dataframe[\"orientation_W\"].tolist()\n",
        "    rolls, pitches, yaws = [], [], []\n",
        "    for i in range(len(x)):\n",
        "        roll, pitch, yaw = quaternion_to_euler(x[i], y[i], z[i], w[i])\n",
        "        rolls.append(roll)\n",
        "        pitches.append(pitch)\n",
        "        yaws.append(yaw)\n",
        "    dataframe[\"roll\"] = rolls\n",
        "    dataframe[\"pitch\"] = pitches\n",
        "    dataframe[\"yaw\"] = yaws"
      ],
      "execution_count": 0,
      "outputs": []
    },
    {
      "cell_type": "markdown",
      "metadata": {
        "id": "YcDzP9cKcBqb",
        "colab_type": "text"
      },
      "source": [
        "Apply above funtions to X_train."
      ]
    },
    {
      "cell_type": "code",
      "metadata": {
        "id": "LaV_qqFRcBqc",
        "colab_type": "code",
        "colab": {},
        "outputId": "643bf047-a9f6-4658-c4a5-c62e836d73e3"
      },
      "source": [
        "add_euler_features(X_train)\n",
        "print(\"Added euler angels to X_train\")"
      ],
      "execution_count": 0,
      "outputs": [
        {
          "output_type": "stream",
          "text": [
            "Added euler angels to X_train\n"
          ],
          "name": "stdout"
        }
      ]
    },
    {
      "cell_type": "markdown",
      "metadata": {
        "id": "4yVBpm-gcBqf",
        "colab_type": "text"
      },
      "source": [
        "Let's take a look at the new X_train dataset"
      ]
    },
    {
      "cell_type": "code",
      "metadata": {
        "id": "XFBNxXrGcBqg",
        "colab_type": "code",
        "colab": {},
        "outputId": "c45107fc-1665-424d-f08f-b74ab64a86cb"
      },
      "source": [
        "X_train"
      ],
      "execution_count": 0,
      "outputs": [
        {
          "output_type": "execute_result",
          "data": {
            "text/html": [
              "<div>\n",
              "<style scoped>\n",
              "    .dataframe tbody tr th:only-of-type {\n",
              "        vertical-align: middle;\n",
              "    }\n",
              "\n",
              "    .dataframe tbody tr th {\n",
              "        vertical-align: top;\n",
              "    }\n",
              "\n",
              "    .dataframe thead th {\n",
              "        text-align: right;\n",
              "    }\n",
              "</style>\n",
              "<table border=\"1\" class=\"dataframe\">\n",
              "  <thead>\n",
              "    <tr style=\"text-align: right;\">\n",
              "      <th></th>\n",
              "      <th>row_id</th>\n",
              "      <th>series_id</th>\n",
              "      <th>measurement_number</th>\n",
              "      <th>orientation_X</th>\n",
              "      <th>orientation_Y</th>\n",
              "      <th>orientation_Z</th>\n",
              "      <th>orientation_W</th>\n",
              "      <th>angular_velocity_X</th>\n",
              "      <th>angular_velocity_Y</th>\n",
              "      <th>angular_velocity_Z</th>\n",
              "      <th>linear_acceleration_X</th>\n",
              "      <th>linear_acceleration_Y</th>\n",
              "      <th>linear_acceleration_Z</th>\n",
              "      <th>roll</th>\n",
              "      <th>pitch</th>\n",
              "      <th>yaw</th>\n",
              "    </tr>\n",
              "  </thead>\n",
              "  <tbody>\n",
              "    <tr>\n",
              "      <th>0</th>\n",
              "      <td>0_0</td>\n",
              "      <td>0</td>\n",
              "      <td>0</td>\n",
              "      <td>-0.75853</td>\n",
              "      <td>-0.63435</td>\n",
              "      <td>-0.104880</td>\n",
              "      <td>-0.105970</td>\n",
              "      <td>0.107650</td>\n",
              "      <td>0.017561</td>\n",
              "      <td>0.000767</td>\n",
              "      <td>-0.74857</td>\n",
              "      <td>2.1030</td>\n",
              "      <td>-9.7532</td>\n",
              "      <td>2.843272</td>\n",
              "      <td>-0.024668</td>\n",
              "      <td>1.396664</td>\n",
              "    </tr>\n",
              "    <tr>\n",
              "      <th>1</th>\n",
              "      <td>0_1</td>\n",
              "      <td>0</td>\n",
              "      <td>1</td>\n",
              "      <td>-0.75853</td>\n",
              "      <td>-0.63434</td>\n",
              "      <td>-0.104900</td>\n",
              "      <td>-0.106000</td>\n",
              "      <td>0.067851</td>\n",
              "      <td>0.029939</td>\n",
              "      <td>0.003385</td>\n",
              "      <td>0.33995</td>\n",
              "      <td>1.5064</td>\n",
              "      <td>-9.4128</td>\n",
              "      <td>2.843199</td>\n",
              "      <td>-0.024662</td>\n",
              "      <td>1.396646</td>\n",
              "    </tr>\n",
              "    <tr>\n",
              "      <th>2</th>\n",
              "      <td>0_2</td>\n",
              "      <td>0</td>\n",
              "      <td>2</td>\n",
              "      <td>-0.75853</td>\n",
              "      <td>-0.63435</td>\n",
              "      <td>-0.104920</td>\n",
              "      <td>-0.105970</td>\n",
              "      <td>0.007275</td>\n",
              "      <td>0.028934</td>\n",
              "      <td>-0.005978</td>\n",
              "      <td>-0.26429</td>\n",
              "      <td>1.5922</td>\n",
              "      <td>-8.7267</td>\n",
              "      <td>2.843224</td>\n",
              "      <td>-0.024728</td>\n",
              "      <td>1.396682</td>\n",
              "    </tr>\n",
              "    <tr>\n",
              "      <th>3</th>\n",
              "      <td>0_3</td>\n",
              "      <td>0</td>\n",
              "      <td>3</td>\n",
              "      <td>-0.75852</td>\n",
              "      <td>-0.63436</td>\n",
              "      <td>-0.104950</td>\n",
              "      <td>-0.105970</td>\n",
              "      <td>-0.013053</td>\n",
              "      <td>0.019448</td>\n",
              "      <td>-0.008974</td>\n",
              "      <td>0.42684</td>\n",
              "      <td>1.0993</td>\n",
              "      <td>-10.0960</td>\n",
              "      <td>2.843186</td>\n",
              "      <td>-0.024770</td>\n",
              "      <td>1.396721</td>\n",
              "    </tr>\n",
              "    <tr>\n",
              "      <th>4</th>\n",
              "      <td>0_4</td>\n",
              "      <td>0</td>\n",
              "      <td>4</td>\n",
              "      <td>-0.75852</td>\n",
              "      <td>-0.63435</td>\n",
              "      <td>-0.104950</td>\n",
              "      <td>-0.105960</td>\n",
              "      <td>0.005135</td>\n",
              "      <td>0.007652</td>\n",
              "      <td>0.005245</td>\n",
              "      <td>-0.50969</td>\n",
              "      <td>1.4689</td>\n",
              "      <td>-10.4410</td>\n",
              "      <td>2.843195</td>\n",
              "      <td>-0.024784</td>\n",
              "      <td>1.396693</td>\n",
              "    </tr>\n",
              "    <tr>\n",
              "      <th>...</th>\n",
              "      <td>...</td>\n",
              "      <td>...</td>\n",
              "      <td>...</td>\n",
              "      <td>...</td>\n",
              "      <td>...</td>\n",
              "      <td>...</td>\n",
              "      <td>...</td>\n",
              "      <td>...</td>\n",
              "      <td>...</td>\n",
              "      <td>...</td>\n",
              "      <td>...</td>\n",
              "      <td>...</td>\n",
              "      <td>...</td>\n",
              "      <td>...</td>\n",
              "      <td>...</td>\n",
              "      <td>...</td>\n",
              "    </tr>\n",
              "    <tr>\n",
              "      <th>487675</th>\n",
              "      <td>3809_123</td>\n",
              "      <td>3809</td>\n",
              "      <td>123</td>\n",
              "      <td>0.62871</td>\n",
              "      <td>-0.76878</td>\n",
              "      <td>-0.084391</td>\n",
              "      <td>0.081093</td>\n",
              "      <td>0.003167</td>\n",
              "      <td>0.093760</td>\n",
              "      <td>-0.142740</td>\n",
              "      <td>3.27180</td>\n",
              "      <td>2.0115</td>\n",
              "      <td>-9.0063</td>\n",
              "      <td>2.907700</td>\n",
              "      <td>-0.018571</td>\n",
              "      <td>-1.768404</td>\n",
              "    </tr>\n",
              "    <tr>\n",
              "      <th>487676</th>\n",
              "      <td>3809_124</td>\n",
              "      <td>3809</td>\n",
              "      <td>124</td>\n",
              "      <td>0.62884</td>\n",
              "      <td>-0.76868</td>\n",
              "      <td>-0.084365</td>\n",
              "      <td>0.081099</td>\n",
              "      <td>0.014994</td>\n",
              "      <td>0.032637</td>\n",
              "      <td>-0.132380</td>\n",
              "      <td>4.42750</td>\n",
              "      <td>3.0696</td>\n",
              "      <td>-8.1257</td>\n",
              "      <td>2.907732</td>\n",
              "      <td>-0.018575</td>\n",
              "      <td>-1.768079</td>\n",
              "    </tr>\n",
              "    <tr>\n",
              "      <th>487677</th>\n",
              "      <td>3809_125</td>\n",
              "      <td>3809</td>\n",
              "      <td>125</td>\n",
              "      <td>0.62891</td>\n",
              "      <td>-0.76861</td>\n",
              "      <td>-0.084345</td>\n",
              "      <td>0.081178</td>\n",
              "      <td>-0.031184</td>\n",
              "      <td>-0.003961</td>\n",
              "      <td>-0.138940</td>\n",
              "      <td>2.70480</td>\n",
              "      <td>4.2622</td>\n",
              "      <td>-8.1443</td>\n",
              "      <td>2.907657</td>\n",
              "      <td>-0.018699</td>\n",
              "      <td>-1.767856</td>\n",
              "    </tr>\n",
              "    <tr>\n",
              "      <th>487678</th>\n",
              "      <td>3809_126</td>\n",
              "      <td>3809</td>\n",
              "      <td>126</td>\n",
              "      <td>0.62903</td>\n",
              "      <td>-0.76850</td>\n",
              "      <td>-0.084414</td>\n",
              "      <td>0.081231</td>\n",
              "      <td>-0.069153</td>\n",
              "      <td>0.013229</td>\n",
              "      <td>-0.130210</td>\n",
              "      <td>2.54100</td>\n",
              "      <td>4.7130</td>\n",
              "      <td>-9.4435</td>\n",
              "      <td>2.907480</td>\n",
              "      <td>-0.018655</td>\n",
              "      <td>-1.767534</td>\n",
              "    </tr>\n",
              "    <tr>\n",
              "      <th>487679</th>\n",
              "      <td>3809_127</td>\n",
              "      <td>3809</td>\n",
              "      <td>127</td>\n",
              "      <td>0.62915</td>\n",
              "      <td>-0.76839</td>\n",
              "      <td>-0.084441</td>\n",
              "      <td>0.081284</td>\n",
              "      <td>-0.042769</td>\n",
              "      <td>0.034049</td>\n",
              "      <td>-0.125800</td>\n",
              "      <td>0.82391</td>\n",
              "      <td>4.2751</td>\n",
              "      <td>-10.4980</td>\n",
              "      <td>2.907365</td>\n",
              "      <td>-0.018665</td>\n",
              "      <td>-1.767200</td>\n",
              "    </tr>\n",
              "  </tbody>\n",
              "</table>\n",
              "<p>487680 rows × 16 columns</p>\n",
              "</div>"
            ],
            "text/plain": [
              "          row_id  series_id  measurement_number  orientation_X  orientation_Y  \\\n",
              "0            0_0          0                   0       -0.75853       -0.63435   \n",
              "1            0_1          0                   1       -0.75853       -0.63434   \n",
              "2            0_2          0                   2       -0.75853       -0.63435   \n",
              "3            0_3          0                   3       -0.75852       -0.63436   \n",
              "4            0_4          0                   4       -0.75852       -0.63435   \n",
              "...          ...        ...                 ...            ...            ...   \n",
              "487675  3809_123       3809                 123        0.62871       -0.76878   \n",
              "487676  3809_124       3809                 124        0.62884       -0.76868   \n",
              "487677  3809_125       3809                 125        0.62891       -0.76861   \n",
              "487678  3809_126       3809                 126        0.62903       -0.76850   \n",
              "487679  3809_127       3809                 127        0.62915       -0.76839   \n",
              "\n",
              "        orientation_Z  orientation_W  angular_velocity_X  angular_velocity_Y  \\\n",
              "0           -0.104880      -0.105970            0.107650            0.017561   \n",
              "1           -0.104900      -0.106000            0.067851            0.029939   \n",
              "2           -0.104920      -0.105970            0.007275            0.028934   \n",
              "3           -0.104950      -0.105970           -0.013053            0.019448   \n",
              "4           -0.104950      -0.105960            0.005135            0.007652   \n",
              "...               ...            ...                 ...                 ...   \n",
              "487675      -0.084391       0.081093            0.003167            0.093760   \n",
              "487676      -0.084365       0.081099            0.014994            0.032637   \n",
              "487677      -0.084345       0.081178           -0.031184           -0.003961   \n",
              "487678      -0.084414       0.081231           -0.069153            0.013229   \n",
              "487679      -0.084441       0.081284           -0.042769            0.034049   \n",
              "\n",
              "        angular_velocity_Z  linear_acceleration_X  linear_acceleration_Y  \\\n",
              "0                 0.000767               -0.74857                 2.1030   \n",
              "1                 0.003385                0.33995                 1.5064   \n",
              "2                -0.005978               -0.26429                 1.5922   \n",
              "3                -0.008974                0.42684                 1.0993   \n",
              "4                 0.005245               -0.50969                 1.4689   \n",
              "...                    ...                    ...                    ...   \n",
              "487675           -0.142740                3.27180                 2.0115   \n",
              "487676           -0.132380                4.42750                 3.0696   \n",
              "487677           -0.138940                2.70480                 4.2622   \n",
              "487678           -0.130210                2.54100                 4.7130   \n",
              "487679           -0.125800                0.82391                 4.2751   \n",
              "\n",
              "        linear_acceleration_Z      roll     pitch       yaw  \n",
              "0                     -9.7532  2.843272 -0.024668  1.396664  \n",
              "1                     -9.4128  2.843199 -0.024662  1.396646  \n",
              "2                     -8.7267  2.843224 -0.024728  1.396682  \n",
              "3                    -10.0960  2.843186 -0.024770  1.396721  \n",
              "4                    -10.4410  2.843195 -0.024784  1.396693  \n",
              "...                       ...       ...       ...       ...  \n",
              "487675                -9.0063  2.907700 -0.018571 -1.768404  \n",
              "487676                -8.1257  2.907732 -0.018575 -1.768079  \n",
              "487677                -8.1443  2.907657 -0.018699 -1.767856  \n",
              "487678                -9.4435  2.907480 -0.018655 -1.767534  \n",
              "487679               -10.4980  2.907365 -0.018665 -1.767200  \n",
              "\n",
              "[487680 rows x 16 columns]"
            ]
          },
          "metadata": {
            "tags": []
          },
          "execution_count": 8
        }
      ]
    },
    {
      "cell_type": "markdown",
      "metadata": {
        "id": "q1NdeS-UcBqj",
        "colab_type": "text"
      },
      "source": [
        "Three new attribues, roll, pitch and yaw, were added to each entry in X_train dataset."
      ]
    },
    {
      "cell_type": "markdown",
      "metadata": {
        "id": "qiRjBj3kcBqk",
        "colab_type": "text"
      },
      "source": [
        "### 2. Feature Engineering\n",
        "\n",
        "As stated in the introduction of this section, our sample data and target data do not have the same amount of rows. This is because our data provider recorded 128 times during a course of walk, but there is only one output for one walk. Therefore, we need to find a way to crunch 128 rows of data for each serie into 1 row for each serie. After researching on \"common numerical feature aggregate functions\", I found out that \"for numerical features, average and sum functions are usually convenient options\"(reference 7). Therefore, that is exactly what I have done in function below, I grouped all of our input data by their series_id and took mean and sum of each attributes within each serie, and outputed them into a new dataframe. The returned dataframe will be our new sample data for our machine learning model."
      ]
    },
    {
      "cell_type": "code",
      "metadata": {
        "id": "a9POcdQ0cBql",
        "colab_type": "code",
        "colab": {}
      },
      "source": [
        "def feature_engineering(dataframe):\n",
        "    ret_dataframe = pd.DataFrame()\n",
        "    \n",
        "    for column in dataframe.columns:\n",
        "        if column == \"row_id\" or column == \"series_id\" or column == \"measurement_number\":\n",
        "            continue\n",
        "        ret_dataframe[column + \"_mean\"] = dataframe.groupby([\"series_id\"])[column].mean()\n",
        "        ret_dataframe[column + \"_sum\"] = dataframe.groupby([\"series_id\"])[column].sum()\n",
        "\n",
        "    return ret_dataframe\n",
        "\n",
        "##  This fucntion was defined under the influence of reference 3"
      ],
      "execution_count": 0,
      "outputs": []
    },
    {
      "cell_type": "markdown",
      "metadata": {
        "id": "IxpnSQK1cBqo",
        "colab_type": "text"
      },
      "source": [
        "Apply above function to X_train."
      ]
    },
    {
      "cell_type": "code",
      "metadata": {
        "id": "ZtvImJuxcBqo",
        "colab_type": "code",
        "colab": {},
        "outputId": "da0e7a16-87ed-4058-9cf2-75333e54b9f3"
      },
      "source": [
        "X_train = feature_engineering(X_train)\n",
        "print(\"Applied feature engineering to X_train\")"
      ],
      "execution_count": 0,
      "outputs": [
        {
          "output_type": "stream",
          "text": [
            "Applied feature engineering to X_train\n"
          ],
          "name": "stdout"
        }
      ]
    },
    {
      "cell_type": "markdown",
      "metadata": {
        "id": "vEK-Y4zLcBqr",
        "colab_type": "text"
      },
      "source": [
        "Let's take a look at the new X_train data."
      ]
    },
    {
      "cell_type": "code",
      "metadata": {
        "id": "HykquwC6cBqs",
        "colab_type": "code",
        "colab": {},
        "outputId": "995c81c2-39fb-409f-87e1-31a4f7b7104d"
      },
      "source": [
        "X_train"
      ],
      "execution_count": 0,
      "outputs": [
        {
          "output_type": "execute_result",
          "data": {
            "text/html": [
              "<div>\n",
              "<style scoped>\n",
              "    .dataframe tbody tr th:only-of-type {\n",
              "        vertical-align: middle;\n",
              "    }\n",
              "\n",
              "    .dataframe tbody tr th {\n",
              "        vertical-align: top;\n",
              "    }\n",
              "\n",
              "    .dataframe thead th {\n",
              "        text-align: right;\n",
              "    }\n",
              "</style>\n",
              "<table border=\"1\" class=\"dataframe\">\n",
              "  <thead>\n",
              "    <tr style=\"text-align: right;\">\n",
              "      <th></th>\n",
              "      <th>orientation_X_mean</th>\n",
              "      <th>orientation_X_sum</th>\n",
              "      <th>orientation_Y_mean</th>\n",
              "      <th>orientation_Y_sum</th>\n",
              "      <th>orientation_Z_mean</th>\n",
              "      <th>orientation_Z_sum</th>\n",
              "      <th>orientation_W_mean</th>\n",
              "      <th>orientation_W_sum</th>\n",
              "      <th>angular_velocity_X_mean</th>\n",
              "      <th>angular_velocity_X_sum</th>\n",
              "      <th>...</th>\n",
              "      <th>linear_acceleration_Y_mean</th>\n",
              "      <th>linear_acceleration_Y_sum</th>\n",
              "      <th>linear_acceleration_Z_mean</th>\n",
              "      <th>linear_acceleration_Z_sum</th>\n",
              "      <th>roll_mean</th>\n",
              "      <th>roll_sum</th>\n",
              "      <th>pitch_mean</th>\n",
              "      <th>pitch_sum</th>\n",
              "      <th>yaw_mean</th>\n",
              "      <th>yaw_sum</th>\n",
              "    </tr>\n",
              "    <tr>\n",
              "      <th>series_id</th>\n",
              "      <th></th>\n",
              "      <th></th>\n",
              "      <th></th>\n",
              "      <th></th>\n",
              "      <th></th>\n",
              "      <th></th>\n",
              "      <th></th>\n",
              "      <th></th>\n",
              "      <th></th>\n",
              "      <th></th>\n",
              "      <th></th>\n",
              "      <th></th>\n",
              "      <th></th>\n",
              "      <th></th>\n",
              "      <th></th>\n",
              "      <th></th>\n",
              "      <th></th>\n",
              "      <th></th>\n",
              "      <th></th>\n",
              "      <th></th>\n",
              "      <th></th>\n",
              "    </tr>\n",
              "  </thead>\n",
              "  <tbody>\n",
              "    <tr>\n",
              "      <th>0</th>\n",
              "      <td>-0.758666</td>\n",
              "      <td>-97.10922</td>\n",
              "      <td>-0.634008</td>\n",
              "      <td>-81.15298</td>\n",
              "      <td>-0.105474</td>\n",
              "      <td>-13.500690</td>\n",
              "      <td>-0.106470</td>\n",
              "      <td>-13.628110</td>\n",
              "      <td>-0.002481</td>\n",
              "      <td>-0.317527</td>\n",
              "      <td>...</td>\n",
              "      <td>2.984195</td>\n",
              "      <td>381.976947</td>\n",
              "      <td>-9.320391</td>\n",
              "      <td>-1193.010000</td>\n",
              "      <td>2.841734</td>\n",
              "      <td>363.741973</td>\n",
              "      <td>-0.025037</td>\n",
              "      <td>-3.204732</td>\n",
              "      <td>1.396035</td>\n",
              "      <td>178.692530</td>\n",
              "    </tr>\n",
              "    <tr>\n",
              "      <th>1</th>\n",
              "      <td>-0.958606</td>\n",
              "      <td>-122.70162</td>\n",
              "      <td>0.241867</td>\n",
              "      <td>30.95897</td>\n",
              "      <td>0.031650</td>\n",
              "      <td>4.051239</td>\n",
              "      <td>-0.146876</td>\n",
              "      <td>-18.800070</td>\n",
              "      <td>0.004605</td>\n",
              "      <td>0.589410</td>\n",
              "      <td>...</td>\n",
              "      <td>2.768193</td>\n",
              "      <td>354.328696</td>\n",
              "      <td>-9.388899</td>\n",
              "      <td>-1201.779100</td>\n",
              "      <td>2.840129</td>\n",
              "      <td>363.536528</td>\n",
              "      <td>-0.010369</td>\n",
              "      <td>-1.327174</td>\n",
              "      <td>-0.492731</td>\n",
              "      <td>-63.069540</td>\n",
              "    </tr>\n",
              "    <tr>\n",
              "      <th>2</th>\n",
              "      <td>-0.512057</td>\n",
              "      <td>-65.54334</td>\n",
              "      <td>-0.846171</td>\n",
              "      <td>-108.30988</td>\n",
              "      <td>-0.129371</td>\n",
              "      <td>-16.559440</td>\n",
              "      <td>-0.071082</td>\n",
              "      <td>-9.098478</td>\n",
              "      <td>0.002646</td>\n",
              "      <td>0.338645</td>\n",
              "      <td>...</td>\n",
              "      <td>2.886745</td>\n",
              "      <td>369.503305</td>\n",
              "      <td>-9.395783</td>\n",
              "      <td>-1202.660200</td>\n",
              "      <td>2.845529</td>\n",
              "      <td>364.227651</td>\n",
              "      <td>-0.012195</td>\n",
              "      <td>-1.560956</td>\n",
              "      <td>2.055021</td>\n",
              "      <td>263.042744</td>\n",
              "    </tr>\n",
              "    <tr>\n",
              "      <th>3</th>\n",
              "      <td>-0.939169</td>\n",
              "      <td>-120.21364</td>\n",
              "      <td>0.310140</td>\n",
              "      <td>39.69794</td>\n",
              "      <td>0.038955</td>\n",
              "      <td>4.986241</td>\n",
              "      <td>-0.142319</td>\n",
              "      <td>-18.216810</td>\n",
              "      <td>0.000624</td>\n",
              "      <td>0.079866</td>\n",
              "      <td>...</td>\n",
              "      <td>2.657922</td>\n",
              "      <td>340.214058</td>\n",
              "      <td>-9.451164</td>\n",
              "      <td>-1209.749000</td>\n",
              "      <td>2.845777</td>\n",
              "      <td>364.259493</td>\n",
              "      <td>-0.015107</td>\n",
              "      <td>-1.933725</td>\n",
              "      <td>-0.635656</td>\n",
              "      <td>-81.363929</td>\n",
              "    </tr>\n",
              "    <tr>\n",
              "      <th>4</th>\n",
              "      <td>-0.891301</td>\n",
              "      <td>-114.08647</td>\n",
              "      <td>0.428144</td>\n",
              "      <td>54.80246</td>\n",
              "      <td>0.060056</td>\n",
              "      <td>7.687225</td>\n",
              "      <td>-0.136460</td>\n",
              "      <td>-17.466930</td>\n",
              "      <td>0.006969</td>\n",
              "      <td>0.892016</td>\n",
              "      <td>...</td>\n",
              "      <td>2.981498</td>\n",
              "      <td>381.631730</td>\n",
              "      <td>-9.349988</td>\n",
              "      <td>-1196.798500</td>\n",
              "      <td>2.842442</td>\n",
              "      <td>363.832589</td>\n",
              "      <td>-0.009793</td>\n",
              "      <td>-1.253551</td>\n",
              "      <td>-0.894147</td>\n",
              "      <td>-114.450875</td>\n",
              "    </tr>\n",
              "    <tr>\n",
              "      <th>...</th>\n",
              "      <td>...</td>\n",
              "      <td>...</td>\n",
              "      <td>...</td>\n",
              "      <td>...</td>\n",
              "      <td>...</td>\n",
              "      <td>...</td>\n",
              "      <td>...</td>\n",
              "      <td>...</td>\n",
              "      <td>...</td>\n",
              "      <td>...</td>\n",
              "      <td>...</td>\n",
              "      <td>...</td>\n",
              "      <td>...</td>\n",
              "      <td>...</td>\n",
              "      <td>...</td>\n",
              "      <td>...</td>\n",
              "      <td>...</td>\n",
              "      <td>...</td>\n",
              "      <td>...</td>\n",
              "      <td>...</td>\n",
              "      <td>...</td>\n",
              "    </tr>\n",
              "    <tr>\n",
              "      <th>3805</th>\n",
              "      <td>-0.228787</td>\n",
              "      <td>-29.28475</td>\n",
              "      <td>0.961730</td>\n",
              "      <td>123.10148</td>\n",
              "      <td>0.144690</td>\n",
              "      <td>18.520330</td>\n",
              "      <td>-0.042361</td>\n",
              "      <td>-5.422159</td>\n",
              "      <td>0.002519</td>\n",
              "      <td>0.322397</td>\n",
              "      <td>...</td>\n",
              "      <td>2.745177</td>\n",
              "      <td>351.382690</td>\n",
              "      <td>-9.465299</td>\n",
              "      <td>-1211.558256</td>\n",
              "      <td>2.839285</td>\n",
              "      <td>363.428462</td>\n",
              "      <td>-0.015273</td>\n",
              "      <td>-1.954967</td>\n",
              "      <td>-2.672166</td>\n",
              "      <td>-342.037278</td>\n",
              "    </tr>\n",
              "    <tr>\n",
              "      <th>3806</th>\n",
              "      <td>0.542262</td>\n",
              "      <td>69.40952</td>\n",
              "      <td>0.826590</td>\n",
              "      <td>105.80358</td>\n",
              "      <td>0.129890</td>\n",
              "      <td>16.625920</td>\n",
              "      <td>0.076335</td>\n",
              "      <td>9.770885</td>\n",
              "      <td>-0.000453</td>\n",
              "      <td>-0.057970</td>\n",
              "      <td>...</td>\n",
              "      <td>2.900305</td>\n",
              "      <td>371.239000</td>\n",
              "      <td>-9.367247</td>\n",
              "      <td>-1199.007600</td>\n",
              "      <td>2.839466</td>\n",
              "      <td>363.451624</td>\n",
              "      <td>-0.014674</td>\n",
              "      <td>-1.878226</td>\n",
              "      <td>1.982632</td>\n",
              "      <td>253.776906</td>\n",
              "    </tr>\n",
              "    <tr>\n",
              "      <th>3807</th>\n",
              "      <td>-0.416511</td>\n",
              "      <td>-53.31344</td>\n",
              "      <td>0.895374</td>\n",
              "      <td>114.60787</td>\n",
              "      <td>0.140185</td>\n",
              "      <td>17.943660</td>\n",
              "      <td>-0.070016</td>\n",
              "      <td>-8.962046</td>\n",
              "      <td>0.031838</td>\n",
              "      <td>4.075327</td>\n",
              "      <td>...</td>\n",
              "      <td>3.660786</td>\n",
              "      <td>468.580635</td>\n",
              "      <td>-9.192466</td>\n",
              "      <td>-1176.635710</td>\n",
              "      <td>2.826992</td>\n",
              "      <td>361.854985</td>\n",
              "      <td>-0.008638</td>\n",
              "      <td>-1.105621</td>\n",
              "      <td>-2.269413</td>\n",
              "      <td>-290.484806</td>\n",
              "    </tr>\n",
              "    <tr>\n",
              "      <th>3808</th>\n",
              "      <td>-0.264584</td>\n",
              "      <td>-33.86672</td>\n",
              "      <td>0.952734</td>\n",
              "      <td>121.94998</td>\n",
              "      <td>0.142060</td>\n",
              "      <td>18.183740</td>\n",
              "      <td>-0.045705</td>\n",
              "      <td>-5.850268</td>\n",
              "      <td>0.001128</td>\n",
              "      <td>0.144381</td>\n",
              "      <td>...</td>\n",
              "      <td>3.075475</td>\n",
              "      <td>393.660794</td>\n",
              "      <td>-9.345442</td>\n",
              "      <td>-1196.216610</td>\n",
              "      <td>2.842236</td>\n",
              "      <td>363.806268</td>\n",
              "      <td>-0.011919</td>\n",
              "      <td>-1.525583</td>\n",
              "      <td>-2.598028</td>\n",
              "      <td>-332.547557</td>\n",
              "    </tr>\n",
              "    <tr>\n",
              "      <th>3809</th>\n",
              "      <td>0.627878</td>\n",
              "      <td>80.36838</td>\n",
              "      <td>-0.769601</td>\n",
              "      <td>-98.50887</td>\n",
              "      <td>-0.083867</td>\n",
              "      <td>-10.734917</td>\n",
              "      <td>0.080308</td>\n",
              "      <td>10.279365</td>\n",
              "      <td>-0.003995</td>\n",
              "      <td>-0.511327</td>\n",
              "      <td>...</td>\n",
              "      <td>2.222328</td>\n",
              "      <td>284.458005</td>\n",
              "      <td>-9.560770</td>\n",
              "      <td>-1223.778500</td>\n",
              "      <td>2.909543</td>\n",
              "      <td>372.421458</td>\n",
              "      <td>-0.018294</td>\n",
              "      <td>-2.341691</td>\n",
              "      <td>-1.770799</td>\n",
              "      <td>-226.662329</td>\n",
              "    </tr>\n",
              "  </tbody>\n",
              "</table>\n",
              "<p>3810 rows × 26 columns</p>\n",
              "</div>"
            ],
            "text/plain": [
              "           orientation_X_mean  orientation_X_sum  orientation_Y_mean  \\\n",
              "series_id                                                              \n",
              "0                   -0.758666          -97.10922           -0.634008   \n",
              "1                   -0.958606         -122.70162            0.241867   \n",
              "2                   -0.512057          -65.54334           -0.846171   \n",
              "3                   -0.939169         -120.21364            0.310140   \n",
              "4                   -0.891301         -114.08647            0.428144   \n",
              "...                       ...                ...                 ...   \n",
              "3805                -0.228787          -29.28475            0.961730   \n",
              "3806                 0.542262           69.40952            0.826590   \n",
              "3807                -0.416511          -53.31344            0.895374   \n",
              "3808                -0.264584          -33.86672            0.952734   \n",
              "3809                 0.627878           80.36838           -0.769601   \n",
              "\n",
              "           orientation_Y_sum  orientation_Z_mean  orientation_Z_sum  \\\n",
              "series_id                                                             \n",
              "0                  -81.15298           -0.105474         -13.500690   \n",
              "1                   30.95897            0.031650           4.051239   \n",
              "2                 -108.30988           -0.129371         -16.559440   \n",
              "3                   39.69794            0.038955           4.986241   \n",
              "4                   54.80246            0.060056           7.687225   \n",
              "...                      ...                 ...                ...   \n",
              "3805               123.10148            0.144690          18.520330   \n",
              "3806               105.80358            0.129890          16.625920   \n",
              "3807               114.60787            0.140185          17.943660   \n",
              "3808               121.94998            0.142060          18.183740   \n",
              "3809               -98.50887           -0.083867         -10.734917   \n",
              "\n",
              "           orientation_W_mean  orientation_W_sum  angular_velocity_X_mean  \\\n",
              "series_id                                                                   \n",
              "0                   -0.106470         -13.628110                -0.002481   \n",
              "1                   -0.146876         -18.800070                 0.004605   \n",
              "2                   -0.071082          -9.098478                 0.002646   \n",
              "3                   -0.142319         -18.216810                 0.000624   \n",
              "4                   -0.136460         -17.466930                 0.006969   \n",
              "...                       ...                ...                      ...   \n",
              "3805                -0.042361          -5.422159                 0.002519   \n",
              "3806                 0.076335           9.770885                -0.000453   \n",
              "3807                -0.070016          -8.962046                 0.031838   \n",
              "3808                -0.045705          -5.850268                 0.001128   \n",
              "3809                 0.080308          10.279365                -0.003995   \n",
              "\n",
              "           angular_velocity_X_sum  ...  linear_acceleration_Y_mean  \\\n",
              "series_id                          ...                               \n",
              "0                       -0.317527  ...                    2.984195   \n",
              "1                        0.589410  ...                    2.768193   \n",
              "2                        0.338645  ...                    2.886745   \n",
              "3                        0.079866  ...                    2.657922   \n",
              "4                        0.892016  ...                    2.981498   \n",
              "...                           ...  ...                         ...   \n",
              "3805                     0.322397  ...                    2.745177   \n",
              "3806                    -0.057970  ...                    2.900305   \n",
              "3807                     4.075327  ...                    3.660786   \n",
              "3808                     0.144381  ...                    3.075475   \n",
              "3809                    -0.511327  ...                    2.222328   \n",
              "\n",
              "           linear_acceleration_Y_sum  linear_acceleration_Z_mean  \\\n",
              "series_id                                                          \n",
              "0                         381.976947                   -9.320391   \n",
              "1                         354.328696                   -9.388899   \n",
              "2                         369.503305                   -9.395783   \n",
              "3                         340.214058                   -9.451164   \n",
              "4                         381.631730                   -9.349988   \n",
              "...                              ...                         ...   \n",
              "3805                      351.382690                   -9.465299   \n",
              "3806                      371.239000                   -9.367247   \n",
              "3807                      468.580635                   -9.192466   \n",
              "3808                      393.660794                   -9.345442   \n",
              "3809                      284.458005                   -9.560770   \n",
              "\n",
              "           linear_acceleration_Z_sum  roll_mean    roll_sum  pitch_mean  \\\n",
              "series_id                                                                 \n",
              "0                       -1193.010000   2.841734  363.741973   -0.025037   \n",
              "1                       -1201.779100   2.840129  363.536528   -0.010369   \n",
              "2                       -1202.660200   2.845529  364.227651   -0.012195   \n",
              "3                       -1209.749000   2.845777  364.259493   -0.015107   \n",
              "4                       -1196.798500   2.842442  363.832589   -0.009793   \n",
              "...                              ...        ...         ...         ...   \n",
              "3805                    -1211.558256   2.839285  363.428462   -0.015273   \n",
              "3806                    -1199.007600   2.839466  363.451624   -0.014674   \n",
              "3807                    -1176.635710   2.826992  361.854985   -0.008638   \n",
              "3808                    -1196.216610   2.842236  363.806268   -0.011919   \n",
              "3809                    -1223.778500   2.909543  372.421458   -0.018294   \n",
              "\n",
              "           pitch_sum  yaw_mean     yaw_sum  \n",
              "series_id                                   \n",
              "0          -3.204732  1.396035  178.692530  \n",
              "1          -1.327174 -0.492731  -63.069540  \n",
              "2          -1.560956  2.055021  263.042744  \n",
              "3          -1.933725 -0.635656  -81.363929  \n",
              "4          -1.253551 -0.894147 -114.450875  \n",
              "...              ...       ...         ...  \n",
              "3805       -1.954967 -2.672166 -342.037278  \n",
              "3806       -1.878226  1.982632  253.776906  \n",
              "3807       -1.105621 -2.269413 -290.484806  \n",
              "3808       -1.525583 -2.598028 -332.547557  \n",
              "3809       -2.341691 -1.770799 -226.662329  \n",
              "\n",
              "[3810 rows x 26 columns]"
            ]
          },
          "metadata": {
            "tags": []
          },
          "execution_count": 11
        }
      ]
    },
    {
      "cell_type": "markdown",
      "metadata": {
        "id": "RxjYkrZzcBqv",
        "colab_type": "text"
      },
      "source": [
        "# Fitting & Predicting\n",
        "\n",
        "Like I stated at the end of Data section, this task is a multiclass classification problem, therefore, in this section, I will be training 4 classic multiclass classifiers including K-Nearest Neighbors Classifier, Support Vector Machine Classifier, Decision Tree Classifier and Randon Forest Classifier. Addtionally, I will perform cross validation on each classifier to present their predciting power. Cross validation will be done by spliting our preprocessed input data and given output data into training set and test set, train each classifier using training input data and output data, predict an output using test input data and validate the predicted output with test output data using sklearn.metrics. We will perform such operation 10 times for each classifier and produce an average accuracy for each classifier. \n",
        "\n",
        "The reason that I did not use dataset provided by the TAs to test accuracy is because I think 20 groups of data is small compares to the total of 3810 groups. Addtionally, there is not enough randomness in the testing data provided by the TAs. I also believe presenting the average accuracy could better reflect the performance for each model. "
      ]
    },
    {
      "cell_type": "markdown",
      "metadata": {
        "id": "WnIPxeCjcBqv",
        "colab_type": "text"
      },
      "source": [
        "Since classifiers can only deal with numerical data, we will first transform \"surface\" data from categorical data to numerical data. "
      ]
    },
    {
      "cell_type": "code",
      "metadata": {
        "id": "hgeHayk-cBqw",
        "colab_type": "code",
        "colab": {},
        "outputId": "47e00cf4-641d-4c6b-8235-bbff38eeb630"
      },
      "source": [
        "lableDict = {\"concrete\": 0, \"soft_pvc\": 1, \"wood\": 2, \"tiled\": 3, \"fine_concrete\": 4, \n",
        "             \"hard_tiles_large_space\": 5, \"soft_tiles\": 6, \"carpet\": 7, \"hard_tiles\": 8}\n",
        "def encodeSurface(y_dataframe):\n",
        "    surface = y_dataframe[\"surface\"].tolist()\n",
        "    encodedSurface = []\n",
        "    for i in range(len(surface)):\n",
        "        encodedSurface.append(lableDict[surface[i]])\n",
        "    y_dataframe[\"encoded_surface\"] = encodedSurface\n",
        "\n",
        "encodeSurface(Y_train)\n",
        "Y_train"
      ],
      "execution_count": 0,
      "outputs": [
        {
          "output_type": "execute_result",
          "data": {
            "text/html": [
              "<div>\n",
              "<style scoped>\n",
              "    .dataframe tbody tr th:only-of-type {\n",
              "        vertical-align: middle;\n",
              "    }\n",
              "\n",
              "    .dataframe tbody tr th {\n",
              "        vertical-align: top;\n",
              "    }\n",
              "\n",
              "    .dataframe thead th {\n",
              "        text-align: right;\n",
              "    }\n",
              "</style>\n",
              "<table border=\"1\" class=\"dataframe\">\n",
              "  <thead>\n",
              "    <tr style=\"text-align: right;\">\n",
              "      <th></th>\n",
              "      <th>series_id</th>\n",
              "      <th>group_id</th>\n",
              "      <th>surface</th>\n",
              "      <th>encoded_surface</th>\n",
              "    </tr>\n",
              "  </thead>\n",
              "  <tbody>\n",
              "    <tr>\n",
              "      <th>0</th>\n",
              "      <td>0</td>\n",
              "      <td>13</td>\n",
              "      <td>fine_concrete</td>\n",
              "      <td>4</td>\n",
              "    </tr>\n",
              "    <tr>\n",
              "      <th>1</th>\n",
              "      <td>1</td>\n",
              "      <td>31</td>\n",
              "      <td>concrete</td>\n",
              "      <td>0</td>\n",
              "    </tr>\n",
              "    <tr>\n",
              "      <th>2</th>\n",
              "      <td>2</td>\n",
              "      <td>20</td>\n",
              "      <td>concrete</td>\n",
              "      <td>0</td>\n",
              "    </tr>\n",
              "    <tr>\n",
              "      <th>3</th>\n",
              "      <td>3</td>\n",
              "      <td>31</td>\n",
              "      <td>concrete</td>\n",
              "      <td>0</td>\n",
              "    </tr>\n",
              "    <tr>\n",
              "      <th>4</th>\n",
              "      <td>4</td>\n",
              "      <td>22</td>\n",
              "      <td>soft_tiles</td>\n",
              "      <td>6</td>\n",
              "    </tr>\n",
              "    <tr>\n",
              "      <th>...</th>\n",
              "      <td>...</td>\n",
              "      <td>...</td>\n",
              "      <td>...</td>\n",
              "      <td>...</td>\n",
              "    </tr>\n",
              "    <tr>\n",
              "      <th>3805</th>\n",
              "      <td>3805</td>\n",
              "      <td>55</td>\n",
              "      <td>tiled</td>\n",
              "      <td>3</td>\n",
              "    </tr>\n",
              "    <tr>\n",
              "      <th>3806</th>\n",
              "      <td>3806</td>\n",
              "      <td>67</td>\n",
              "      <td>wood</td>\n",
              "      <td>2</td>\n",
              "    </tr>\n",
              "    <tr>\n",
              "      <th>3807</th>\n",
              "      <td>3807</td>\n",
              "      <td>48</td>\n",
              "      <td>fine_concrete</td>\n",
              "      <td>4</td>\n",
              "    </tr>\n",
              "    <tr>\n",
              "      <th>3808</th>\n",
              "      <td>3808</td>\n",
              "      <td>54</td>\n",
              "      <td>tiled</td>\n",
              "      <td>3</td>\n",
              "    </tr>\n",
              "    <tr>\n",
              "      <th>3809</th>\n",
              "      <td>3809</td>\n",
              "      <td>56</td>\n",
              "      <td>soft_pvc</td>\n",
              "      <td>1</td>\n",
              "    </tr>\n",
              "  </tbody>\n",
              "</table>\n",
              "<p>3810 rows × 4 columns</p>\n",
              "</div>"
            ],
            "text/plain": [
              "      series_id  group_id        surface  encoded_surface\n",
              "0             0        13  fine_concrete                4\n",
              "1             1        31       concrete                0\n",
              "2             2        20       concrete                0\n",
              "3             3        31       concrete                0\n",
              "4             4        22     soft_tiles                6\n",
              "...         ...       ...            ...              ...\n",
              "3805       3805        55          tiled                3\n",
              "3806       3806        67           wood                2\n",
              "3807       3807        48  fine_concrete                4\n",
              "3808       3808        54          tiled                3\n",
              "3809       3809        56       soft_pvc                1\n",
              "\n",
              "[3810 rows x 4 columns]"
            ]
          },
          "metadata": {
            "tags": []
          },
          "execution_count": 12
        }
      ]
    },
    {
      "cell_type": "markdown",
      "metadata": {
        "id": "Tz29lVsNcBq0",
        "colab_type": "text"
      },
      "source": [
        "### 1. Support Vector Machine Classifier"
      ]
    },
    {
      "cell_type": "code",
      "metadata": {
        "id": "ly-vDwWfcBq0",
        "colab_type": "code",
        "colab": {},
        "outputId": "2b978ead-f1d3-49a4-ffc2-b4ffb554ef2b"
      },
      "source": [
        "svm_score = []\n",
        "for i in range(10):\n",
        "    x_train, x_test, y_train, y_test = train_test_split(X_train, Y_train, test_size = 0.3)\n",
        "    svm = SVC()\n",
        "    svm.fit(x_train, y_train[\"encoded_surface\"])\n",
        "    svm_y_predict = svm.predict(x_test)\n",
        "    svm_score.append(metrics.accuracy_score(y_test[\"encoded_surface\"], svm_y_predict))\n",
        "    print(\"Accuracy for round\", i+1, \":\",metrics.accuracy_score(y_test[\"encoded_surface\"], svm_y_predict))\n",
        "print(\"Average accuracy is:\", sum(svm_score)/len(svm_score))"
      ],
      "execution_count": 0,
      "outputs": [
        {
          "output_type": "stream",
          "text": [
            "Accuracy for round 1 : 0.32808398950131235\n",
            "Accuracy for round 2 : 0.30621172353455817\n",
            "Accuracy for round 3 : 0.30446194225721784\n",
            "Accuracy for round 4 : 0.331583552055993\n",
            "Accuracy for round 5 : 0.31408573928258965\n",
            "Accuracy for round 6 : 0.2887139107611549\n",
            "Accuracy for round 7 : 0.3132108486439195\n",
            "Accuracy for round 8 : 0.34120734908136485\n",
            "Accuracy for round 9 : 0.29396325459317585\n",
            "Accuracy for round 10 : 0.2922134733158355\n",
            "Average accuracy is: 0.3113735783027122\n"
          ],
          "name": "stdout"
        }
      ]
    },
    {
      "cell_type": "markdown",
      "metadata": {
        "id": "xrY6ZGlbcBq3",
        "colab_type": "text"
      },
      "source": [
        "To summerize what Support Vector Machine Classifier does, it creates a line or a hyperplane which separates the data into classes. However, due to the fact that we have several really similar surface type, such as concrete and fine concrete, the distribution of their data are going to be very similar. Let's use concrete and fine concrete as example and plot three features of theirs to see for ourselves."
      ]
    },
    {
      "cell_type": "code",
      "metadata": {
        "id": "dN4XpvEFcBq4",
        "colab_type": "code",
        "colab": {}
      },
      "source": [
        "X_y_train_merged = X_train.merge(y_train, on=\"series_id\")\n",
        "concrete = X_y_train_merged.loc[X_y_train_merged[\"surface\"]==\"concrete\"]\n",
        "fine_concrete = X_y_train_merged.loc[X_y_train_merged[\"surface\"]==\"fine_concrete\"]"
      ],
      "execution_count": 0,
      "outputs": []
    },
    {
      "cell_type": "code",
      "metadata": {
        "id": "2QxHb2fIcBq9",
        "colab_type": "code",
        "colab": {},
        "outputId": "58a2974a-6095-4121-d7b3-32b0c79b9b0b"
      },
      "source": [
        "ax = concrete.plot(kind = \"scatter\", y = \"orientation_X_mean\", x = \"series_id\", color = \"red\")\n",
        "fine_concrete.plot(kind = \"scatter\", y = \"orientation_X_mean\", x = \"series_id\", color = \"blue\", ax = ax)"
      ],
      "execution_count": 0,
      "outputs": [
        {
          "output_type": "execute_result",
          "data": {
            "text/plain": [
              "<matplotlib.axes._subplots.AxesSubplot at 0x7f34caaf5518>"
            ]
          },
          "metadata": {
            "tags": []
          },
          "execution_count": 15
        },
        {
          "output_type": "display_data",
          "data": {
            "image/png": "[encoded data removed]",
            "text/plain": [
              "<Figure size 432x288 with 1 Axes>"
            ]
          },
          "metadata": {
            "tags": [],
            "needs_background": "light"
          }
        }
      ]
    },
    {
      "cell_type": "code",
      "metadata": {
        "id": "Uvigtn1ScBrE",
        "colab_type": "code",
        "colab": {},
        "outputId": "d6d38621-2575-4113-d35a-8933d97be493"
      },
      "source": [
        "ax = concrete.plot(kind = \"scatter\", y = \"linear_acceleration_Y_sum\", x = \"series_id\", color = \"red\")\n",
        "fine_concrete.plot(kind = \"scatter\", y = \"linear_acceleration_Y_sum\", x = \"series_id\", color = \"blue\", ax = ax)"
      ],
      "execution_count": 0,
      "outputs": [
        {
          "output_type": "execute_result",
          "data": {
            "text/plain": [
              "<matplotlib.axes._subplots.AxesSubplot at 0x7f34c3d30c50>"
            ]
          },
          "metadata": {
            "tags": []
          },
          "execution_count": 16
        },
        {
          "output_type": "display_data",
          "data": {
            "image/png": "[encoded data removed]",
            "text/plain": [
              "<Figure size 432x288 with 1 Axes>"
            ]
          },
          "metadata": {
            "tags": [],
            "needs_background": "light"
          }
        }
      ]
    },
    {
      "cell_type": "code",
      "metadata": {
        "id": "_4x1cG53cBrH",
        "colab_type": "code",
        "colab": {},
        "outputId": "88ab20a6-3281-4229-d9dd-1a6846d60295"
      },
      "source": [
        "ax = concrete.plot(kind = \"scatter\", y = \"angular_velocity_Z_mean\", x = \"series_id\", color = \"red\")\n",
        "fine_concrete.plot(kind = \"scatter\", y = \"angular_velocity_Z_mean\", x = \"series_id\", color = \"blue\", ax = ax)"
      ],
      "execution_count": 0,
      "outputs": [
        {
          "output_type": "execute_result",
          "data": {
            "text/plain": [
              "<matplotlib.axes._subplots.AxesSubplot at 0x7f34caa146a0>"
            ]
          },
          "metadata": {
            "tags": []
          },
          "execution_count": 17
        },
        {
          "output_type": "display_data",
          "data": {
            "image/png": "[encoded data removed]",
            "text/plain": [
              "<Figure size 432x288 with 1 Axes>"
            ]
          },
          "metadata": {
            "tags": [],
            "needs_background": "light"
          }
        }
      ]
    },
    {
      "cell_type": "markdown",
      "metadata": {
        "id": "BjZ5oiQycBrJ",
        "colab_type": "text"
      },
      "source": [
        "From the three plot above, we can see that most data from these two classes are either overlapped with each other. Therefore, a Support Vector Machine Classifier would have a hard time generate a line or hyperplane to seperate data. A bad accuracy is expected and was produced in above code."
      ]
    },
    {
      "cell_type": "markdown",
      "metadata": {
        "id": "t1hIMRKLcBrK",
        "colab_type": "text"
      },
      "source": [
        "### 2. K-Nearest Neighbors Classifier"
      ]
    },
    {
      "cell_type": "code",
      "metadata": {
        "id": "Xn442EERcBrK",
        "colab_type": "code",
        "colab": {},
        "outputId": "19d388cf-5925-4a96-b295-20392a358335"
      },
      "source": [
        "knn_score = []\n",
        "for i in range(10):\n",
        "    x_train, x_test, y_train, y_test = train_test_split(X_train, Y_train, test_size = 0.3)\n",
        "    knn = KNeighborsClassifier(algorithm = \"auto\")\n",
        "    knn.fit(x_train, y_train[\"encoded_surface\"])\n",
        "    knn_y_predict = knn.predict(x_test)\n",
        "    knn_score.append(metrics.accuracy_score(y_test[\"encoded_surface\"], knn_y_predict))\n",
        "    print(\"Accuracy for round\", i+1, \":\",metrics.accuracy_score(y_test[\"encoded_surface\"], knn_y_predict))\n",
        "print(\"Average accuracy is:\", sum(knn_score)/len(knn_score))"
      ],
      "execution_count": 0,
      "outputs": [
        {
          "output_type": "stream",
          "text": [
            "Accuracy for round 1 : 0.6430446194225722\n",
            "Accuracy for round 2 : 0.6622922134733158\n",
            "Accuracy for round 3 : 0.6404199475065617\n",
            "Accuracy for round 4 : 0.6167979002624672\n",
            "Accuracy for round 5 : 0.642169728783902\n",
            "Accuracy for round 6 : 0.6237970253718286\n",
            "Accuracy for round 7 : 0.6430446194225722\n",
            "Accuracy for round 8 : 0.6395450568678915\n",
            "Accuracy for round 9 : 0.6342957130358705\n",
            "Accuracy for round 10 : 0.642169728783902\n",
            "Average accuracy is: 0.6387576552930884\n"
          ],
          "name": "stdout"
        }
      ]
    },
    {
      "cell_type": "markdown",
      "metadata": {
        "id": "r0Wpg0aIcBrN",
        "colab_type": "text"
      },
      "source": [
        "What K-Nearest Neighbors does is assuming that the similarity between data is critical for identifying its class. It calculates the \"distance\" between a test data and all training data, pick the nearest K datapoint (in the code above, default setting for sklearn KNN is K equals to 5) and classify the test data to the most frequent label among these K datapoint.\n",
        "\n",
        "One of the main drawback of K-Nearest Neighbor could be slow as the size of dataset grows, because it calculates the \"distance\" between every test data and every training data, time complexity would be O(test_size  * training_size). Fortunately, in the content of our task, 3830 sets of data is not too much to handle for this model. However, take a look at the graph we plotted in the section above again, the similarity between some of the classes could cause inaccuacy again. Becasue quite a lot of data from different class could be very \"close\" to each other, prediction for these classes could be hard for K-Nearest Neighbor model to identify, therefore, we can see that this model did not produce high accuracy performance as well. "
      ]
    },
    {
      "cell_type": "markdown",
      "metadata": {
        "id": "BGe6lpytcBrN",
        "colab_type": "text"
      },
      "source": [
        "### 3. Decision Tree Classifier"
      ]
    },
    {
      "cell_type": "code",
      "metadata": {
        "id": "PT0oyh3qcBrO",
        "colab_type": "code",
        "colab": {},
        "outputId": "efcf6941-2c34-41f0-f991-3942f2dcb3a7"
      },
      "source": [
        "dtree_score = []\n",
        "for i in range(10):\n",
        "    x_train, x_test, y_train, y_test = train_test_split(X_train, Y_train, test_size = 0.3)\n",
        "    dtree = DecisionTreeClassifier()\n",
        "    dtree.fit(x_train, y_train[\"encoded_surface\"])\n",
        "    dtree_y_predict = dtree.predict(x_test)\n",
        "    dtree_score.append(metrics.accuracy_score(y_test[\"encoded_surface\"], dtree_y_predict))\n",
        "    print(\"Accuracy for round\", i+1, \":\",metrics.accuracy_score(y_test[\"encoded_surface\"], dtree_y_predict))\n",
        "print(\"Average accuracy is:\", sum(dtree_score)/len(dtree_score))"
      ],
      "execution_count": 0,
      "outputs": [
        {
          "output_type": "stream",
          "text": [
            "Accuracy for round 1 : 0.7471566054243219\n",
            "Accuracy for round 2 : 0.7532808398950132\n",
            "Accuracy for round 3 : 0.7471566054243219\n",
            "Accuracy for round 4 : 0.7655293088363955\n",
            "Accuracy for round 5 : 0.7357830271216098\n",
            "Accuracy for round 6 : 0.7777777777777778\n",
            "Accuracy for round 7 : 0.7489063867016623\n",
            "Accuracy for round 8 : 0.7489063867016623\n",
            "Accuracy for round 9 : 0.7340332458442694\n",
            "Accuracy for round 10 : 0.7375328083989501\n",
            "Average accuracy is: 0.7496062992125985\n"
          ],
          "name": "stdout"
        }
      ]
    },
    {
      "cell_type": "markdown",
      "metadata": {
        "id": "GPxo0J86cBrQ",
        "colab_type": "text"
      },
      "source": [
        "Decision Tree Classifier uses divide and conquer heuristic, it recursivly split the training data on feature that has the highest information gain till it is sufficient enough to identify different classes. When utilizing sklearn's Decision Tree Classifier, we could specify the depth of our tree, but in the code above, to reach the best accuracy possible, I did not set the depth parameter and the default setting is to expand \"until all leaves are pure or until all leaves contain less than min_samples_split (default is 2) samples\" (Reference[11]), where pure leaves means that all data in each leaf belong to the same class.\n",
        "\n",
        "From the description above, we can see that the distribution of the data, unlike for Support Vector Machine and K-Nearest Neighbor, does not come into much effect for Decision Tree Classifier. Therefore, we can see that the accuracy is higher than both classifiers we tested above."
      ]
    },
    {
      "cell_type": "markdown",
      "metadata": {
        "id": "mRIyAkZDcBrR",
        "colab_type": "text"
      },
      "source": [
        "### 4. Random Forest Classifier"
      ]
    },
    {
      "cell_type": "code",
      "metadata": {
        "id": "8a2nxTHUcBrS",
        "colab_type": "code",
        "colab": {},
        "outputId": "441c4477-c93c-4e3d-929d-f08503954443"
      },
      "source": [
        "rfc_score = []\n",
        "for i in range(10):\n",
        "    x_train, x_test, y_train, y_test = train_test_split(X_train, Y_train, test_size = 0.3)\n",
        "    rfc = RandomForestClassifier()\n",
        "    rfc.fit(x_train, y_train[\"encoded_surface\"])\n",
        "    rfc_y_predict = rfc.predict(x_test)\n",
        "    rfc_score.append(metrics.accuracy_score(y_test[\"encoded_surface\"], rfc_y_predict))\n",
        "    print(\"Accuracy for round\", i+1, \":\",metrics.accuracy_score(y_test[\"encoded_surface\"], rfc_y_predict))\n",
        "print(\"Average accuracy is:\", sum(rfc_score)/len(rfc_score))"
      ],
      "execution_count": 0,
      "outputs": [
        {
          "output_type": "stream",
          "text": [
            "Accuracy for round 1 : 0.8118985126859143\n",
            "Accuracy for round 2 : 0.8311461067366579\n",
            "Accuracy for round 3 : 0.8363954505686789\n",
            "Accuracy for round 4 : 0.8223972003499562\n",
            "Accuracy for round 5 : 0.8276465441819773\n",
            "Accuracy for round 6 : 0.8390201224846894\n",
            "Accuracy for round 7 : 0.8407699037620298\n",
            "Accuracy for round 8 : 0.8346456692913385\n",
            "Accuracy for round 9 : 0.8223972003499562\n",
            "Accuracy for round 10 : 0.8101487314085739\n",
            "Average accuracy is: 0.8276465441819774\n"
          ],
          "name": "stdout"
        }
      ]
    },
    {
      "cell_type": "markdown",
      "metadata": {
        "id": "9dBdg7bEcBrW",
        "colab_type": "text"
      },
      "source": [
        "As we all know, a forest is consist of tons of trees. Random Forest Classifier is not an exception, and the \"trees\" in this \"forest\" are Decision Tree Classifiers. Random Forest Classifier contains a random collection of Decision Tree Classifiers, it merges all Decision Trees together to reach a better accuracy, which it did as we can see that its average accuracy is almost 10 precentage points higher than Decision Tree. \n",
        "\n",
        "When utilizing sklearn's Random Forest Classifier, we have the option to specify the amount of Decision Tree we want to create in the \"forest\". In the code above, I used the default value for the amount of Decision Tree which is 100. Note that larger amount of Decision Tree would reach a higher accuracy, however, the trade off is that model will become slower as the number of tree grows. For our data, I tested using 500 Decision Trees and it was extremely slow and the accuracy is not much higher than the accuracy produced with 100 Decision Trees."
      ]
    },
    {
      "cell_type": "markdown",
      "metadata": {
        "id": "KOi2SaF3cBrX",
        "colab_type": "text"
      },
      "source": [
        "# Summary\n",
        "\n",
        "In this project, I first explored our given data, found out the structure of it, made sense of what each feature means and identified what category of machine learning problem this task falls into. After researching, I then realized that the 4-dimension orientation features need to coverted into 3-dimension euler angles for a better understanding and usage. Addtion to generating new features, I also became aware of that our sample data need to be grouped together to be able to map our target data. To do that, I used two most common aggregate functions, according to reference 7, in grouping numeric data in feature engineering, average and sum, to generate a new sample dataset which is mappable to the target dataset.\n",
        "\n",
        "After exploring and preprocessing the given data, I fitted the data in 4 multiclass classifiers, Support Vector Machine, K-Nearest Neighbor, Decision Tree and Randon Forest Classifier. I performed cross validation by randomly spliting our given sample data and target data into 70% of training data and 30% of testing data. I trained each classifier with training data, predicted a set of target data and calculated the accuracy by comparing the predicting target data with the testing target data. I performed such cross validation operation for 10 rounds and produced a average accuracy for each classifer. I presented the accuracy score for each round and the average score for ten round, as well as the analysis on how each classifer perform and why. \n",
        "\n",
        "The conclusion that I got is that, due to the nature of the given dataset, Decision Tree Classifier performed better than both Support Vector Machine and K-Nearest Neighbor. That goes without saying that Random Forest Classifier produced the highest accuracy score among all 4 classifers. "
      ]
    },
    {
      "cell_type": "markdown",
      "metadata": {
        "id": "xZRqIKIScBrX",
        "colab_type": "text"
      },
      "source": [
        "# Reference\n",
        "\n",
        "[1]Video about Euler Angles: https://youtu.be/ageh45rxyXU.<br>\n",
        "[2]Convertion between orientation and euler: https://en.wikipedia.org/wiki/Conversion_between_quaternions_and_Euler_angles.<br>\n",
        "[3]Kaggle notebook that inspired quaternion_to_euler and feature_engineering: https://www.kaggle.com/gpreda/robots-need-help.<br>\n",
        "[4]Article on classification type: https://towardsdatascience.com/supervised-learning-basics-of-classification-and-main-algorithms-c16b06806cd3.<br>\n",
        "[5]Article on Decision Tree: https://towardsdatascience.com/decision-tree-classification-de64fc4d5aac.<br>\n",
        "[6]Article on utilizing Random Forest Classifier and Cross Validation: https://www.datacamp.com/community/tutorials/random-forests-classifier-python.<br>\n",
        "[7]Article on feature engineering method: https://towardsdatascience.com/feature-engineering-for-machine-learning-3a5e293a5114.<br>\n",
        "[8]Article on Support Vector Machine: https://towardsdatascience.com/https-medium-com-pupalerushikesh-svm-f4b42800e989.<br>\n",
        "[9]Article on type and usage of multiclass classifier: https://www.geeksforgeeks.org/multiclass-classification-using-scikit-learn/.<br>\n",
        "[10]Discussion on when to use Support Vector Machine: https://www.researchgate.net/post/When_we_use_Support_Vector_machine_for_Classification.<br>\n",
        "[11]Sklearn Decision Tree document: https://scikit-learn.org/stable/modules/generated/sklearn.tree.DecisionTreeClassifier.html.<br>\n",
        "[12]Sklearn KNN document: https://scikit-learn.org/stable/modules/generated/sklearn.neighbors.KNeighborsClassifier.html.<br>\n",
        "[13]Sklearn SVM document: https://scikit-learn.org/stable/modules/generated/sklearn.svm.SVC.html.<br>\n",
        "[14]Article on when to use Random Forest Classifier: https://www.newgenapps.com/blog/random-forest-analysis-in-ml-and-when-to-use-it."
      ]
    }
  ]
}